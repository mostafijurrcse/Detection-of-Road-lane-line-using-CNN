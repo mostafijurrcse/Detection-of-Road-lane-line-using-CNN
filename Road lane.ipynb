{
 "cells": [
  {
   "cell_type": "code",
   "execution_count": 1,
   "id": "694ed00c",
   "metadata": {},
   "outputs": [],
   "source": [
    "import numpy as np\n",
    "import pandas as pd \n"
   ]
  },
  {
   "cell_type": "code",
   "execution_count": 2,
   "id": "bb4852c1",
   "metadata": {},
   "outputs": [],
   "source": [
    "import numpy as np\n",
    "import tensorflow as tf\n",
    "from tensorflow import keras\n",
    "from tensorflow.keras.models import Sequential\n",
    "from tensorflow.keras.layers import Activation, Dense, Flatten, Conv2D, MaxPool2D\n",
    "from tensorflow.keras.optimizers import Adam\n",
    "from tensorflow.keras.metrics import categorical_crossentropy\n",
    "from tensorflow.keras.preprocessing.image import ImageDataGenerator\n",
    "from sklearn.metrics import confusion_matrix\n",
    "import itertools\n",
    "import os\n",
    "import shutil\n",
    "import random\n",
    "import glob\n",
    "import matplotlib.pyplot as plt\n",
    "\n",
    "%matplotlib inline"
   ]
  },
  {
   "cell_type": "code",
   "execution_count": 3,
   "id": "75f77d27",
   "metadata": {},
   "outputs": [
    {
     "data": {
      "text/plain": [
       "'C:\\\\Users\\\\Mostafijur Rahman\\\\Desktop\\\\My Project\\\\Data Science Project\\\\TopperWorld\\\\Detection of Road lane line'"
      ]
     },
     "execution_count": 3,
     "metadata": {},
     "output_type": "execute_result"
    }
   ],
   "source": [
    "os.getcwd()"
   ]
  },
  {
   "cell_type": "code",
   "execution_count": 4,
   "id": "80972882",
   "metadata": {},
   "outputs": [],
   "source": [
    "\n",
    "train_path = 'C:/Users/Mostafijur Rahman/Desktop/My Project/Data Science Project/TopperWorld/Detection of Road lane line/Data/data_road_224/training'\n",
    "test_path = 'C:/Users/Mostafijur Rahman/Desktop/My Project/Data Science Project/TopperWorld/Detection of Road lane line/Data/data_road_224/testing'\n",
    "\n"
   ]
  },
  {
   "cell_type": "code",
   "execution_count": 7,
   "id": "c17a17b7",
   "metadata": {},
   "outputs": [],
   "source": [
    "IMG_DIM = 32\n",
    "CLASSES = sorted(['Class1','Class2'])"
   ]
  },
  {
   "cell_type": "code",
   "execution_count": 8,
   "id": "b0d07467",
   "metadata": {},
   "outputs": [
    {
     "name": "stdout",
     "output_type": "stream",
     "text": [
      "Found 289 images belonging to 2 classes.\n",
      "Found 57 images belonging to 2 classes.\n",
      "Found 290 images belonging to 2 classes.\n"
     ]
    }
   ],
   "source": [
    "train_gen = ImageDataGenerator().flow_from_directory(\n",
    "    directory=train_path, \n",
    "    target_size = (IMG_DIM,IMG_DIM), \n",
    "    classes=CLASSES)\n",
    "\n",
    "val_gen = ImageDataGenerator( validation_split=0.2).flow_from_directory(\n",
    "    directory=train_path, \n",
    "    target_size = (IMG_DIM,IMG_DIM), \n",
    "    classes=CLASSES, \n",
    "    subset='validation')\n",
    "\n",
    "test_gen = ImageDataGenerator().flow_from_directory(\n",
    "    directory=test_path, \n",
    "    target_size = (IMG_DIM,IMG_DIM), \n",
    "    classes=CLASSES, \n",
    "    shuffle=False)"
   ]
  },
  {
   "cell_type": "code",
   "execution_count": 9,
   "id": "d11008f9",
   "metadata": {},
   "outputs": [
    {
     "data": {
      "text/plain": [
       "{'Class1': 0, 'Class2': 1}"
      ]
     },
     "execution_count": 9,
     "metadata": {},
     "output_type": "execute_result"
    }
   ],
   "source": [
    "train_gen.class_indices"
   ]
  },
  {
   "cell_type": "code",
   "execution_count": 10,
   "id": "943f2207",
   "metadata": {},
   "outputs": [],
   "source": [
    "from tensorflow.keras.applications.resnet import ResNet152\n",
    "from tensorflow.keras.models import Sequential\n",
    "from tensorflow.keras.layers import (\n",
    "    Dense,\n",
    "    Conv2D,\n",
    "    MaxPool2D,\n",
    "    Flatten,\n",
    "    Dropout,\n",
    "    BatchNormalization,\n",
    ")\n",
    "from keras.layers import Dense, GlobalAvgPool2D"
   ]
  },
  {
   "cell_type": "code",
   "execution_count": 11,
   "id": "2bd59a65",
   "metadata": {},
   "outputs": [
    {
     "name": "stdout",
     "output_type": "stream",
     "text": [
      "Model: \"sequential\"\n",
      "_________________________________________________________________\n",
      " Layer (type)                Output Shape              Param #   \n",
      "=================================================================\n",
      " resnet152 (Functional)      (None, 1, 1, 2048)        58370944  \n",
      "                                                                 \n",
      " global_average_pooling2d (G  (None, 2048)             0         \n",
      " lobalAveragePooling2D)                                          \n",
      "                                                                 \n",
      " dense (Dense)               (None, 2)                 4098      \n",
      "                                                                 \n",
      "=================================================================\n",
      "Total params: 58,375,042\n",
      "Trainable params: 4,098\n",
      "Non-trainable params: 58,370,944\n",
      "_________________________________________________________________\n"
     ]
    }
   ],
   "source": [
    "pretrained = ResNet152(\n",
    "    input_shape=(IMG_DIM, IMG_DIM, 3),\n",
    "    include_top=False\n",
    ")\n",
    "pretrained.trainable = False\n",
    "\n",
    "model = Sequential()\n",
    "model.add(pretrained)\n",
    "model.add(GlobalAvgPool2D())\n",
    "model.add(Dense(2, activation='softmax'))\n",
    "model.compile(loss='categorical_crossentropy', optimizer='adam', metrics=['accuracy'])\n",
    "model.summary()\n",
    "\n",
    "MODEL_PATH = 'saved-models/resnet'"
   ]
  },
  {
   "cell_type": "code",
   "execution_count": 12,
   "id": "25e2e639",
   "metadata": {},
   "outputs": [
    {
     "name": "stdout",
     "output_type": "stream",
     "text": [
      "Epoch 1/30\n",
      "10/10 [==============================] - ETA: 0s - loss: 1.6408 - accuracy: 0.5260\n",
      "Epoch 1: val_loss improved from inf to 1.07505, saving model to saved-models\\resnet\n",
      "10/10 [==============================] - 36s 2s/step - loss: 1.6408 - accuracy: 0.5260 - val_loss: 1.0751 - val_accuracy: 0.5789\n",
      "Epoch 2/30\n",
      "10/10 [==============================] - ETA: 0s - loss: 1.2971 - accuracy: 0.5433\n",
      "Epoch 2: val_loss did not improve from 1.07505\n",
      "10/10 [==============================] - 4s 483ms/step - loss: 1.2971 - accuracy: 0.5433 - val_loss: 1.3568 - val_accuracy: 0.6316\n",
      "Epoch 3/30\n",
      "10/10 [==============================] - ETA: 0s - loss: 1.1038 - accuracy: 0.6090\n",
      "Epoch 3: val_loss improved from 1.07505 to 0.87567, saving model to saved-models\\resnet\n",
      "10/10 [==============================] - 37s 4s/step - loss: 1.1038 - accuracy: 0.6090 - val_loss: 0.8757 - val_accuracy: 0.5263\n",
      "Epoch 4/30\n",
      "10/10 [==============================] - ETA: 0s - loss: 0.8530 - accuracy: 0.6436\n",
      "Epoch 4: val_loss improved from 0.87567 to 0.71129, saving model to saved-models\\resnet\n",
      "10/10 [==============================] - 44s 5s/step - loss: 0.8530 - accuracy: 0.6436 - val_loss: 0.7113 - val_accuracy: 0.7368\n",
      "Epoch 5/30\n",
      " 9/10 [==========================>...] - ETA: 0s - loss: 0.7323 - accuracy: 0.6597\n",
      "Epoch 5: val_loss did not improve from 0.71129\n",
      "10/10 [==============================] - 4s 442ms/step - loss: 0.7299 - accuracy: 0.6609 - val_loss: 0.8577 - val_accuracy: 0.6316\n",
      "Epoch 6/30\n",
      "10/10 [==============================] - ETA: 0s - loss: 0.6723 - accuracy: 0.6782\n",
      "Epoch 6: val_loss improved from 0.71129 to 0.60407, saving model to saved-models\\resnet\n",
      "10/10 [==============================] - 25s 3s/step - loss: 0.6723 - accuracy: 0.6782 - val_loss: 0.6041 - val_accuracy: 0.7018\n",
      "Epoch 7/30\n",
      "10/10 [==============================] - ETA: 0s - loss: 0.5559 - accuracy: 0.7059\n",
      "Epoch 7: val_loss improved from 0.60407 to 0.56606, saving model to saved-models\\resnet\n",
      "10/10 [==============================] - 9s 898ms/step - loss: 0.5559 - accuracy: 0.7059 - val_loss: 0.5661 - val_accuracy: 0.7368\n",
      "Epoch 8/30\n",
      "10/10 [==============================] - ETA: 0s - loss: 0.4650 - accuracy: 0.7855\n",
      "Epoch 8: val_loss improved from 0.56606 to 0.47516, saving model to saved-models\\resnet\n",
      "10/10 [==============================] - 27s 3s/step - loss: 0.4650 - accuracy: 0.7855 - val_loss: 0.4752 - val_accuracy: 0.7719\n",
      "Epoch 9/30\n",
      "10/10 [==============================] - ETA: 0s - loss: 0.4310 - accuracy: 0.7716\n",
      "Epoch 9: val_loss improved from 0.47516 to 0.46217, saving model to saved-models\\resnet\n",
      "10/10 [==============================] - 8s 840ms/step - loss: 0.4310 - accuracy: 0.7716 - val_loss: 0.4622 - val_accuracy: 0.7719\n",
      "Epoch 10/30\n",
      "10/10 [==============================] - ETA: 0s - loss: 0.3849 - accuracy: 0.8166\n",
      "Epoch 10: val_loss did not improve from 0.46217\n",
      "10/10 [==============================] - 4s 444ms/step - loss: 0.3849 - accuracy: 0.8166 - val_loss: 0.5200 - val_accuracy: 0.7018\n",
      "Epoch 11/30\n",
      "10/10 [==============================] - ETA: 0s - loss: 0.3727 - accuracy: 0.8304\n",
      "Epoch 11: val_loss improved from 0.46217 to 0.37237, saving model to saved-models\\resnet\n",
      "10/10 [==============================] - 31s 3s/step - loss: 0.3727 - accuracy: 0.8304 - val_loss: 0.3724 - val_accuracy: 0.8596\n",
      "Epoch 12/30\n",
      "10/10 [==============================] - ETA: 0s - loss: 0.3220 - accuracy: 0.8651\n",
      "Epoch 12: val_loss did not improve from 0.37237\n",
      "10/10 [==============================] - 5s 447ms/step - loss: 0.3220 - accuracy: 0.8651 - val_loss: 0.4293 - val_accuracy: 0.7368\n",
      "Epoch 13/30\n",
      "10/10 [==============================] - ETA: 0s - loss: 0.3480 - accuracy: 0.8374\n",
      "Epoch 13: val_loss improved from 0.37237 to 0.32362, saving model to saved-models\\resnet\n",
      "10/10 [==============================] - 29s 3s/step - loss: 0.3480 - accuracy: 0.8374 - val_loss: 0.3236 - val_accuracy: 0.8947\n",
      "Epoch 14/30\n",
      "10/10 [==============================] - ETA: 0s - loss: 0.2919 - accuracy: 0.8962\n",
      "Epoch 14: val_loss improved from 0.32362 to 0.29415, saving model to saved-models\\resnet\n",
      "10/10 [==============================] - 41s 4s/step - loss: 0.2919 - accuracy: 0.8962 - val_loss: 0.2942 - val_accuracy: 0.8947\n",
      "Epoch 15/30\n",
      "10/10 [==============================] - ETA: 0s - loss: 0.2589 - accuracy: 0.9100\n",
      "Epoch 15: val_loss did not improve from 0.29415\n",
      "10/10 [==============================] - 5s 487ms/step - loss: 0.2589 - accuracy: 0.9100 - val_loss: 0.3709 - val_accuracy: 0.7895\n",
      "Epoch 16/30\n",
      "10/10 [==============================] - ETA: 0s - loss: 0.2918 - accuracy: 0.8858\n",
      "Epoch 16: val_loss did not improve from 0.29415\n",
      "10/10 [==============================] - 5s 489ms/step - loss: 0.2918 - accuracy: 0.8858 - val_loss: 0.3341 - val_accuracy: 0.8421\n",
      "Epoch 17/30\n",
      "10/10 [==============================] - ETA: 0s - loss: 0.2721 - accuracy: 0.8824\n",
      "Epoch 17: val_loss did not improve from 0.29415\n",
      "10/10 [==============================] - 4s 480ms/step - loss: 0.2721 - accuracy: 0.8824 - val_loss: 0.2989 - val_accuracy: 0.8947\n",
      "Epoch 18/30\n",
      "10/10 [==============================] - ETA: 0s - loss: 0.2522 - accuracy: 0.8962\n",
      "Epoch 18: val_loss improved from 0.29415 to 0.26289, saving model to saved-models\\resnet\n",
      "10/10 [==============================] - 8s 884ms/step - loss: 0.2522 - accuracy: 0.8962 - val_loss: 0.2629 - val_accuracy: 0.9298\n",
      "Epoch 19/30\n",
      "10/10 [==============================] - ETA: 0s - loss: 0.3193 - accuracy: 0.8478\n",
      "Epoch 19: val_loss did not improve from 0.26289\n",
      "10/10 [==============================] - 4s 485ms/step - loss: 0.3193 - accuracy: 0.8478 - val_loss: 0.4044 - val_accuracy: 0.7544\n",
      "Epoch 20/30\n",
      "10/10 [==============================] - ETA: 0s - loss: 0.3227 - accuracy: 0.8478\n",
      "Epoch 20: val_loss did not improve from 0.26289\n",
      "10/10 [==============================] - 4s 418ms/step - loss: 0.3227 - accuracy: 0.8478 - val_loss: 0.3260 - val_accuracy: 0.8596\n",
      "Epoch 21/30\n",
      "10/10 [==============================] - ETA: 0s - loss: 0.2298 - accuracy: 0.9170\n",
      "Epoch 21: val_loss improved from 0.26289 to 0.23649, saving model to saved-models\\resnet\n",
      "10/10 [==============================] - 42s 5s/step - loss: 0.2298 - accuracy: 0.9170 - val_loss: 0.2365 - val_accuracy: 0.9474\n",
      "Epoch 22/30\n",
      "10/10 [==============================] - ETA: 0s - loss: 0.2586 - accuracy: 0.8858\n",
      "Epoch 22: val_loss did not improve from 0.23649\n",
      "10/10 [==============================] - 5s 448ms/step - loss: 0.2586 - accuracy: 0.8858 - val_loss: 0.2827 - val_accuracy: 0.8947\n",
      "Epoch 23/30\n",
      "10/10 [==============================] - ETA: 0s - loss: 0.2223 - accuracy: 0.9308\n",
      "Epoch 23: val_loss improved from 0.23649 to 0.23549, saving model to saved-models\\resnet\n",
      "10/10 [==============================] - 18s 2s/step - loss: 0.2223 - accuracy: 0.9308 - val_loss: 0.2355 - val_accuracy: 0.9298\n",
      "Epoch 24/30\n",
      "10/10 [==============================] - ETA: 0s - loss: 0.1890 - accuracy: 0.9481\n",
      "Epoch 24: val_loss improved from 0.23549 to 0.21782, saving model to saved-models\\resnet\n",
      "10/10 [==============================] - 43s 5s/step - loss: 0.1890 - accuracy: 0.9481 - val_loss: 0.2178 - val_accuracy: 0.9298\n",
      "Epoch 25/30\n",
      "10/10 [==============================] - ETA: 0s - loss: 0.1706 - accuracy: 0.9516\n",
      "Epoch 25: val_loss improved from 0.21782 to 0.18564, saving model to saved-models\\resnet\n",
      "10/10 [==============================] - 15s 2s/step - loss: 0.1706 - accuracy: 0.9516 - val_loss: 0.1856 - val_accuracy: 0.9649\n",
      "Epoch 26/30\n",
      "10/10 [==============================] - ETA: 0s - loss: 0.1709 - accuracy: 0.9585\n",
      "Epoch 26: val_loss did not improve from 0.18564\n",
      "10/10 [==============================] - 4s 442ms/step - loss: 0.1709 - accuracy: 0.9585 - val_loss: 0.2244 - val_accuracy: 0.9298\n",
      "Epoch 27/30\n",
      "10/10 [==============================] - ETA: 0s - loss: 0.1976 - accuracy: 0.9377\n",
      "Epoch 27: val_loss did not improve from 0.18564\n",
      "10/10 [==============================] - 5s 456ms/step - loss: 0.1976 - accuracy: 0.9377 - val_loss: 0.1899 - val_accuracy: 0.9649\n",
      "Epoch 28/30\n",
      "10/10 [==============================] - ETA: 0s - loss: 0.1651 - accuracy: 0.9550\n",
      "Epoch 28: val_loss improved from 0.18564 to 0.16647, saving model to saved-models\\resnet\n",
      "10/10 [==============================] - 33s 4s/step - loss: 0.1651 - accuracy: 0.9550 - val_loss: 0.1665 - val_accuracy: 0.9649\n"
     ]
    },
    {
     "name": "stdout",
     "output_type": "stream",
     "text": [
      "Epoch 29/30\n",
      "10/10 [==============================] - ETA: 0s - loss: 0.1952 - accuracy: 0.9308\n",
      "Epoch 29: val_loss did not improve from 0.16647\n",
      "10/10 [==============================] - 4s 435ms/step - loss: 0.1952 - accuracy: 0.9308 - val_loss: 0.2175 - val_accuracy: 0.9123\n",
      "Epoch 30/30\n",
      "10/10 [==============================] - ETA: 0s - loss: 0.1622 - accuracy: 0.9585\n",
      "Epoch 30: val_loss improved from 0.16647 to 0.16012, saving model to saved-models\\resnet\n",
      "10/10 [==============================] - 35s 4s/step - loss: 0.1622 - accuracy: 0.9585 - val_loss: 0.1601 - val_accuracy: 0.9825\n"
     ]
    }
   ],
   "source": [
    "from tensorflow.keras.callbacks import ModelCheckpoint\n",
    "\n",
    "checkpoint = ModelCheckpoint(MODEL_PATH,\n",
    "                            save_weights_only=True,\n",
    "                            save_best_only=True,\n",
    "                            verbose=1)\n",
    "history = model.fit(\n",
    "    train_gen,\n",
    "    validation_data=val_gen,\n",
    "    epochs=30,\n",
    "    callbacks=[checkpoint],\n",
    ")"
   ]
  },
  {
   "cell_type": "code",
   "execution_count": 13,
   "id": "c42f3ac6",
   "metadata": {},
   "outputs": [
    {
     "data": {
      "image/png": "[encoded data removed]",
      "text/plain": [
       "<Figure size 1152x288 with 2 Axes>"
      ]
     },
     "metadata": {
      "needs_background": "light"
     },
     "output_type": "display_data"
    }
   ],
   "source": [
    "acc = history.history['accuracy']\n",
    "val_acc = history.history['val_accuracy']\n",
    "loss = history.history['loss']\n",
    "val_loss = history.history['val_loss']\n",
    "epochs = range(1, len(loss) + 1)\n",
    "\n",
    "plt.figure(figsize=(16, 4))\n",
    "\n",
    "plt.subplot(1, 2, 1)\n",
    "plt.plot(epochs, acc, label='Training Accuracy')\n",
    "plt.plot(epochs, val_acc, label='Validation Accuracy')\n",
    "plt.ylabel('Accuracy')\n",
    "plt.xlabel('Epoch')\n",
    "plt.legend(loc='lower right')\n",
    "plt.title('Training and Validation Accuracy')\n",
    "\n",
    "plt.subplot(1, 2, 2)\n",
    "plt.plot(epochs, loss, label='Training Loss')\n",
    "plt.plot(epochs, val_loss, label='Validation Loss')\n",
    "plt.ylabel('Loss')\n",
    "plt.xlabel('Epoch')\n",
    "plt.legend(loc='upper right')\n",
    "plt.title('Training and Validation Loss')\n",
    "plt.show()"
   ]
  },
  {
   "cell_type": "code",
   "execution_count": 14,
   "id": "d681b400",
   "metadata": {},
   "outputs": [
    {
     "name": "stdout",
     "output_type": "stream",
     "text": [
      "10/10 [==============================] - 12s 1s/step - loss: 1.3061 - accuracy: 0.4379\n",
      "Test loss: 1.306119441986084\n",
      "Test accuracy: 0.43793103098869324\n"
     ]
    }
   ],
   "source": [
    "score = model.evaluate(test_gen)\n",
    "print('Test loss:', score[0])\n",
    "print('Test accuracy:', score[1])\n"
   ]
  },
  {
   "cell_type": "code",
   "execution_count": 15,
   "id": "6a09100b",
   "metadata": {},
   "outputs": [
    {
     "name": "stdout",
     "output_type": "stream",
     "text": [
      "10/10 [==============================] - 4s 382ms/step - loss: 0.1490 - accuracy: 0.9723\n",
      "Train loss: 0.14899340271949768\n",
      "Train accuracy: 0.9723183512687683\n"
     ]
    }
   ],
   "source": [
    "score = model.evaluate(train_gen)\n",
    "print('Train loss:', score[0])\n",
    "print('Train accuracy:', score[1])"
   ]
  },
  {
   "cell_type": "code",
   "execution_count": 16,
   "id": "a5dcee57",
   "metadata": {},
   "outputs": [
    {
     "name": "stdout",
     "output_type": "stream",
     "text": [
      "10/10 [==============================] - 17s 899ms/step\n"
     ]
    },
    {
     "data": {
      "text/plain": [
       "array([1, 1, 1, 1, 1, 1, 0, 1, 1, 1, 1, 1, 1, 1, 0, 0, 1, 1, 1, 1, 1, 1,\n",
       "       0, 0, 0, 0, 0, 1, 1, 1, 1, 1, 0, 1, 0, 0, 0, 1, 1, 1, 0, 1, 1, 0,\n",
       "       0, 0, 0, 1, 0, 0, 0, 1, 1, 1, 0, 1, 1, 0, 0, 1, 1, 1, 1, 0, 0, 1,\n",
       "       1, 1, 1, 1, 1, 1, 1, 1, 0, 1, 1, 0, 0, 1, 0, 0, 1, 1, 1, 0, 0, 1,\n",
       "       1, 0, 1, 1, 1, 1, 1, 1, 0, 1, 1, 0, 1, 0, 0, 1, 1, 1, 0, 1, 1, 0,\n",
       "       1, 1, 1, 1, 1, 1, 0, 1, 1, 0, 1, 1, 1, 0, 0, 1, 1, 1, 1, 1, 1, 0,\n",
       "       0, 1, 1, 1, 1, 0, 0, 1, 1, 1, 0, 1, 1, 1, 1, 1, 1, 1, 1, 1, 1, 1,\n",
       "       0, 1, 0, 1, 0, 1, 1, 1, 0, 0, 1, 1, 1, 1, 0, 1, 1, 1, 0, 1, 0, 1,\n",
       "       1, 1, 1, 1, 1, 1, 1, 1, 0, 1, 1, 1, 0, 1, 1, 1, 1, 0, 1, 0, 1, 1,\n",
       "       0, 1, 0, 0, 0, 0, 0, 0, 0, 0, 0, 0, 1, 1, 1, 1, 0, 0, 0, 1, 1, 0,\n",
       "       0, 1, 1, 0, 0, 1, 1, 1, 1, 0, 1, 1, 1, 1, 1, 0, 1, 1, 1, 1, 1, 1,\n",
       "       0, 1, 1, 1, 0, 0, 1, 0, 1, 0, 1, 1, 0, 1, 1, 0, 0, 1, 1, 0, 1, 1,\n",
       "       0, 0, 1, 1, 0, 0, 0, 1, 1, 1, 0, 1, 0, 1, 0, 0, 0, 0, 0, 1, 0, 0,\n",
       "       0, 0, 1, 0], dtype=int64)"
      ]
     },
     "execution_count": 16,
     "metadata": {},
     "output_type": "execute_result"
    }
   ],
   "source": [
    "predict=model.predict(test_gen)\n",
    "# predict the class label\n",
    "y_classes = predict.argmax(axis=-1)\n",
    "y_classes"
   ]
  },
  {
   "cell_type": "code",
   "execution_count": 17,
   "id": "4063a26f",
   "metadata": {},
   "outputs": [],
   "source": [
    "predictions = model.predict(x = test_gen, verbose=0)"
   ]
  },
  {
   "cell_type": "code",
   "execution_count": 18,
   "id": "6cb4e200",
   "metadata": {},
   "outputs": [],
   "source": [
    "cm = confusion_matrix(y_true=test_gen.classes, y_pred=np.argmax(predict, axis=-1))"
   ]
  },
  {
   "cell_type": "code",
   "execution_count": 19,
   "id": "6aae217a",
   "metadata": {},
   "outputs": [
    {
     "data": {
      "text/plain": [
       "(2.5, -0.5)"
      ]
     },
     "execution_count": 19,
     "metadata": {},
     "output_type": "execute_result"
    },
    {
     "data": {
      "image/png": "[encoded data removed]",
      "text/plain": [
       "<Figure size 432x288 with 2 Axes>"
      ]
     },
     "metadata": {
      "needs_background": "light"
     },
     "output_type": "display_data"
    }
   ],
   "source": [
    "import seaborn as sn\n",
    "ax= plt.subplot()\n",
    "sn.heatmap(cm, annot=True, fmt='g', ax=ax);\n",
    "\n",
    "ax.set_xlabel('Predicted labels');ax.set_ylabel('True labels'); \n",
    "ax.set_title('Confusion Matrix'); \n",
    "ax.xaxis.set_ticklabels(['Class1', 'Class2']);ax.yaxis.set_ticklabels(['Class1', 'Class2']);\n",
    "bottom, top = ax.get_ylim()\n",
    "ax.set_ylim(bottom + 0.5, top - 0.5)"
   ]
  },
  {
   "cell_type": "code",
   "execution_count": 20,
   "id": "dabe19e6",
   "metadata": {},
   "outputs": [],
   "source": [
    "from sklearn.metrics import accuracy_score\n",
    "from sklearn.metrics import classification_report\n",
    "from sklearn.metrics import roc_auc_score \n",
    "from sklearn.metrics import mean_squared_error"
   ]
  },
  {
   "cell_type": "code",
   "execution_count": 21,
   "id": "9aee693c",
   "metadata": {},
   "outputs": [
    {
     "name": "stdout",
     "output_type": "stream",
     "text": [
      "              precision    recall  f1-score   support\n",
      "\n",
      "           0       0.46      0.32      0.38       155\n",
      "           1       0.42      0.58      0.49       135\n",
      "\n",
      "    accuracy                           0.44       290\n",
      "   macro avg       0.44      0.45      0.43       290\n",
      "weighted avg       0.44      0.44      0.43       290\n",
      "\n"
     ]
    }
   ],
   "source": [
    "print(classification_report(test_gen.classes, y_classes))"
   ]
  },
  {
   "cell_type": "code",
   "execution_count": 22,
   "id": "e71dafc7",
   "metadata": {},
   "outputs": [
    {
     "name": "stdout",
     "output_type": "stream",
     "text": [
      "0.44695340501792113\n"
     ]
    }
   ],
   "source": [
    "roc_auc = roc_auc_score(test_gen.classes, np.argmax(predict, axis=-1))\n",
    "\n",
    "print(roc_auc)"
   ]
  },
  {
   "cell_type": "code",
   "execution_count": 23,
   "id": "49fdd34e",
   "metadata": {},
   "outputs": [
    {
     "name": "stdout",
     "output_type": "stream",
     "text": [
      "0.7497125886079554\n"
     ]
    }
   ],
   "source": [
    "mse = mean_squared_error(test_gen.classes, np.argmax(predict, axis=-1))\n",
    "rmse = np.sqrt(mse)\n",
    "print(rmse)"
   ]
  },
  {
   "cell_type": "code",
   "execution_count": 24,
   "id": "31d3921b",
   "metadata": {},
   "outputs": [
    {
     "name": "stdout",
     "output_type": "stream",
     "text": [
      "0.4379310344827586\n"
     ]
    }
   ],
   "source": [
    "print(accuracy_score(test_gen.classes, np.argmax(predictions, axis=-1)))"
   ]
  },
  {
   "cell_type": "code",
   "execution_count": null,
   "id": "b9c401be",
   "metadata": {},
   "outputs": [],
   "source": []
  },
  {
   "cell_type": "code",
   "execution_count": null,
   "id": "9de0b729",
   "metadata": {},
   "outputs": [],
   "source": []
  },
  {
   "cell_type": "code",
   "execution_count": null,
   "id": "3eaafb3e",
   "metadata": {},
   "outputs": [],
   "source": []
  },
  {
   "cell_type": "code",
   "execution_count": null,
   "id": "d699ae6f",
   "metadata": {},
   "outputs": [],
   "source": []
  }
 ],
 "metadata": {
  "kernelspec": {
   "display_name": "Python 3 (ipykernel)",
   "language": "python",
   "name": "python3"
  },
  "language_info": {
   "codemirror_mode": {
    "name": "ipython",
    "version": 3
   },
   "file_extension": ".py",
   "mimetype": "text/x-python",
   "name": "python",
   "nbconvert_exporter": "python",
   "pygments_lexer": "ipython3",
   "version": "3.9.12"
  }
 },
 "nbformat": 4,
 "nbformat_minor": 5
}
